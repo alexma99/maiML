{
 "cells": [
  {
   "cell_type": "markdown",
   "metadata": {},
   "source": [
    "# Лабораторная работа 2\n",
    "# Алгоритмы машинного обучения\n",
    "### _Студент: Мамчур А. В._\n",
    "### _Группа: М80-304Б._\n",
    "\n",
    "## _Постановка задачи_\n",
    "Требуется реализовать класс на выбранном языке программирования, который реализует один из алгоритмов машинного обучения. Обязательным является наличия в классе двух методов fit, predict. Необходимо проверить работу вашего алгоритма на ваших данных (на таблице и на текстовых данных), произведя необходимую подготовку данных. Также необходимо реализовать алгоритм полиномиальной регрессии, для предсказания значений в таблице. Сравнить результаты с стандартной реализацией sklearn, определить в чем сходство и различие ваших алгоритмов. Замерить время работы алгоритмов. Каркас класса на языке Python:<br>\n",
    "\n",
    "class MLAlgo(object):\n",
    "\n",
    "def __init__(self,*pargs,**kwargs):\n",
    "\n",
    "pass\n",
    "\n",
    "def fit(self,x,y):\n",
    "\n",
    "pass\n",
    "\n",
    "def predict(self,x,y):\n",
    "\n",
    "Выбор алгоритма осуществляется по: 7 % 6 + 1 =2 => KNN\n",
    "\n",
    "__Оборудование:__ Ноутбук Asus X554L Intel Core i3-5005U 2000 МГц, память 4 ГБ, 64-разрядная ос.<br>\n",
    "__Программное обеспечение:__ Windows 10, jupyter notebook.<br>\n",
    "__Датасет1:__Мельбурнский рынок жилья(Содержит категориальные, количественные признаки.)<br>\n",
    "Ссылка: https://www.kaggle.com/anthonypino/melbourne-housing-market#Melbourne_housing_FULL.csv<br>\n",
    "__Датасет2:__Набор данных полярности настроения(Представляет собой корпус документов, содержащий 1000 положительных и 1000 отрицательных обзоров на фильмы.)<br>\n",
    "Ссылка: https://www.kaggle.com/anindya2906/movie-review-polarity\n",
    "\n",
    "### _Алгоритм_\n",
    "\n",
    "Для классификации каждого из объектов тестовой выборки необходимо последовательно выполнить следующие операции:<br>\n",
    "- Вычислить расстояние до каждого из объектов обучающей выборки\n",
    "- Отобрать k объектов обучающей выборки, расстояние до которых минимально\n",
    "- Класс классифицируемого объекта — это класс, наиболее часто встречающийся среди k ближайших соседей\n",
    "\n",
    "## Табличные данные"
   ]
  },
  {
   "cell_type": "code",
   "execution_count": 48,
   "metadata": {
    "collapsed": false
   },
   "outputs": [
    {
     "data": {
      "text/html": [
       "<div>\n",
       "<table border=\"1\" class=\"dataframe\">\n",
       "  <thead>\n",
       "    <tr style=\"text-align: right;\">\n",
       "      <th></th>\n",
       "      <th>Suburb</th>\n",
       "      <th>Address</th>\n",
       "      <th>Rooms</th>\n",
       "      <th>Type</th>\n",
       "      <th>Price</th>\n",
       "      <th>Method</th>\n",
       "      <th>SellerG</th>\n",
       "      <th>Date</th>\n",
       "      <th>Distance</th>\n",
       "      <th>Postcode</th>\n",
       "      <th>...</th>\n",
       "      <th>Bathroom</th>\n",
       "      <th>Car</th>\n",
       "      <th>Landsize</th>\n",
       "      <th>BuildingArea</th>\n",
       "      <th>YearBuilt</th>\n",
       "      <th>CouncilArea</th>\n",
       "      <th>Lattitude</th>\n",
       "      <th>Longtitude</th>\n",
       "      <th>Regionname</th>\n",
       "      <th>Propertycount</th>\n",
       "    </tr>\n",
       "  </thead>\n",
       "  <tbody>\n",
       "    <tr>\n",
       "      <th>0</th>\n",
       "      <td>Abbotsford</td>\n",
       "      <td>68 Studley St</td>\n",
       "      <td>2</td>\n",
       "      <td>h</td>\n",
       "      <td>NaN</td>\n",
       "      <td>SS</td>\n",
       "      <td>Jellis</td>\n",
       "      <td>3/09/2016</td>\n",
       "      <td>2.5</td>\n",
       "      <td>3067.0</td>\n",
       "      <td>...</td>\n",
       "      <td>1.0</td>\n",
       "      <td>1.0</td>\n",
       "      <td>126.0</td>\n",
       "      <td>NaN</td>\n",
       "      <td>NaN</td>\n",
       "      <td>Yarra City Council</td>\n",
       "      <td>-37.8014</td>\n",
       "      <td>144.9958</td>\n",
       "      <td>Northern Metropolitan</td>\n",
       "      <td>4019.0</td>\n",
       "    </tr>\n",
       "    <tr>\n",
       "      <th>1</th>\n",
       "      <td>Abbotsford</td>\n",
       "      <td>85 Turner St</td>\n",
       "      <td>2</td>\n",
       "      <td>h</td>\n",
       "      <td>1480000.0</td>\n",
       "      <td>S</td>\n",
       "      <td>Biggin</td>\n",
       "      <td>3/12/2016</td>\n",
       "      <td>2.5</td>\n",
       "      <td>3067.0</td>\n",
       "      <td>...</td>\n",
       "      <td>1.0</td>\n",
       "      <td>1.0</td>\n",
       "      <td>202.0</td>\n",
       "      <td>NaN</td>\n",
       "      <td>NaN</td>\n",
       "      <td>Yarra City Council</td>\n",
       "      <td>-37.7996</td>\n",
       "      <td>144.9984</td>\n",
       "      <td>Northern Metropolitan</td>\n",
       "      <td>4019.0</td>\n",
       "    </tr>\n",
       "    <tr>\n",
       "      <th>2</th>\n",
       "      <td>Abbotsford</td>\n",
       "      <td>25 Bloomburg St</td>\n",
       "      <td>2</td>\n",
       "      <td>h</td>\n",
       "      <td>1035000.0</td>\n",
       "      <td>S</td>\n",
       "      <td>Biggin</td>\n",
       "      <td>4/02/2016</td>\n",
       "      <td>2.5</td>\n",
       "      <td>3067.0</td>\n",
       "      <td>...</td>\n",
       "      <td>1.0</td>\n",
       "      <td>0.0</td>\n",
       "      <td>156.0</td>\n",
       "      <td>79.0</td>\n",
       "      <td>1900.0</td>\n",
       "      <td>Yarra City Council</td>\n",
       "      <td>-37.8079</td>\n",
       "      <td>144.9934</td>\n",
       "      <td>Northern Metropolitan</td>\n",
       "      <td>4019.0</td>\n",
       "    </tr>\n",
       "    <tr>\n",
       "      <th>3</th>\n",
       "      <td>Abbotsford</td>\n",
       "      <td>18/659 Victoria St</td>\n",
       "      <td>3</td>\n",
       "      <td>u</td>\n",
       "      <td>NaN</td>\n",
       "      <td>VB</td>\n",
       "      <td>Rounds</td>\n",
       "      <td>4/02/2016</td>\n",
       "      <td>2.5</td>\n",
       "      <td>3067.0</td>\n",
       "      <td>...</td>\n",
       "      <td>2.0</td>\n",
       "      <td>1.0</td>\n",
       "      <td>0.0</td>\n",
       "      <td>NaN</td>\n",
       "      <td>NaN</td>\n",
       "      <td>Yarra City Council</td>\n",
       "      <td>-37.8114</td>\n",
       "      <td>145.0116</td>\n",
       "      <td>Northern Metropolitan</td>\n",
       "      <td>4019.0</td>\n",
       "    </tr>\n",
       "    <tr>\n",
       "      <th>4</th>\n",
       "      <td>Abbotsford</td>\n",
       "      <td>5 Charles St</td>\n",
       "      <td>3</td>\n",
       "      <td>h</td>\n",
       "      <td>1465000.0</td>\n",
       "      <td>SP</td>\n",
       "      <td>Biggin</td>\n",
       "      <td>4/03/2017</td>\n",
       "      <td>2.5</td>\n",
       "      <td>3067.0</td>\n",
       "      <td>...</td>\n",
       "      <td>2.0</td>\n",
       "      <td>0.0</td>\n",
       "      <td>134.0</td>\n",
       "      <td>150.0</td>\n",
       "      <td>1900.0</td>\n",
       "      <td>Yarra City Council</td>\n",
       "      <td>-37.8093</td>\n",
       "      <td>144.9944</td>\n",
       "      <td>Northern Metropolitan</td>\n",
       "      <td>4019.0</td>\n",
       "    </tr>\n",
       "  </tbody>\n",
       "</table>\n",
       "<p>5 rows × 21 columns</p>\n",
       "</div>"
      ],
      "text/plain": [
       "       Suburb             Address  Rooms Type      Price Method SellerG  \\\n",
       "0  Abbotsford       68 Studley St      2    h        NaN     SS  Jellis   \n",
       "1  Abbotsford        85 Turner St      2    h  1480000.0      S  Biggin   \n",
       "2  Abbotsford     25 Bloomburg St      2    h  1035000.0      S  Biggin   \n",
       "3  Abbotsford  18/659 Victoria St      3    u        NaN     VB  Rounds   \n",
       "4  Abbotsford        5 Charles St      3    h  1465000.0     SP  Biggin   \n",
       "\n",
       "        Date  Distance  Postcode      ...       Bathroom  Car  Landsize  \\\n",
       "0  3/09/2016       2.5    3067.0      ...            1.0  1.0     126.0   \n",
       "1  3/12/2016       2.5    3067.0      ...            1.0  1.0     202.0   \n",
       "2  4/02/2016       2.5    3067.0      ...            1.0  0.0     156.0   \n",
       "3  4/02/2016       2.5    3067.0      ...            2.0  1.0       0.0   \n",
       "4  4/03/2017       2.5    3067.0      ...            2.0  0.0     134.0   \n",
       "\n",
       "   BuildingArea  YearBuilt         CouncilArea Lattitude  Longtitude  \\\n",
       "0           NaN        NaN  Yarra City Council  -37.8014    144.9958   \n",
       "1           NaN        NaN  Yarra City Council  -37.7996    144.9984   \n",
       "2          79.0     1900.0  Yarra City Council  -37.8079    144.9934   \n",
       "3           NaN        NaN  Yarra City Council  -37.8114    145.0116   \n",
       "4         150.0     1900.0  Yarra City Council  -37.8093    144.9944   \n",
       "\n",
       "              Regionname Propertycount  \n",
       "0  Northern Metropolitan        4019.0  \n",
       "1  Northern Metropolitan        4019.0  \n",
       "2  Northern Metropolitan        4019.0  \n",
       "3  Northern Metropolitan        4019.0  \n",
       "4  Northern Metropolitan        4019.0  \n",
       "\n",
       "[5 rows x 21 columns]"
      ]
     },
     "execution_count": 48,
     "metadata": {},
     "output_type": "execute_result"
    }
   ],
   "source": [
    "import numpy as np\n",
    "import pandas as pd\n",
    "import matplotlib.pyplot as plt\n",
    "\n",
    "df = pd.read_csv('Melbourne_housing_FULL.csv')\n",
    "df.head()"
   ]
  },
  {
   "cell_type": "code",
   "execution_count": 49,
   "metadata": {
    "collapsed": false
   },
   "outputs": [
    {
     "data": {
      "text/plain": [
       "Index(['Suburb', 'Address', 'Rooms', 'Type', 'Price', 'Method', 'SellerG',\n",
       "       'Date', 'Distance', 'Postcode', 'Bedroom2', 'Bathroom', 'Car',\n",
       "       'Landsize', 'BuildingArea', 'YearBuilt', 'CouncilArea', 'Lattitude',\n",
       "       'Longtitude', 'Regionname', 'Propertycount'],\n",
       "      dtype='object')"
      ]
     },
     "execution_count": 49,
     "metadata": {},
     "output_type": "execute_result"
    }
   ],
   "source": [
    "df.columns #все мои колонки"
   ]
  },
  {
   "cell_type": "code",
   "execution_count": 15,
   "metadata": {
    "collapsed": false
   },
   "outputs": [
    {
     "name": "stdout",
     "output_type": "stream",
     "text": [
      "<class 'pandas.core.frame.DataFrame'>\n",
      "RangeIndex: 34857 entries, 0 to 34856\n",
      "Data columns (total 21 columns):\n",
      "Suburb           34857 non-null object\n",
      "Address          34857 non-null object\n",
      "Rooms            34857 non-null int64\n",
      "Type             34857 non-null object\n",
      "Price            27247 non-null float64\n",
      "Method           34857 non-null object\n",
      "SellerG          34857 non-null object\n",
      "Date             34857 non-null object\n",
      "Distance         34856 non-null float64\n",
      "Postcode         34856 non-null float64\n",
      "Bedroom2         26640 non-null float64\n",
      "Bathroom         26631 non-null float64\n",
      "Car              26129 non-null float64\n",
      "Landsize         23047 non-null float64\n",
      "BuildingArea     13742 non-null float64\n",
      "YearBuilt        15551 non-null float64\n",
      "CouncilArea      34854 non-null object\n",
      "Lattitude        26881 non-null float64\n",
      "Longtitude       26881 non-null float64\n",
      "Regionname       34854 non-null object\n",
      "Propertycount    34854 non-null float64\n",
      "dtypes: float64(12), int64(1), object(8)\n",
      "memory usage: 5.6+ MB\n"
     ]
    }
   ],
   "source": [
    "df.info() #информация по датасету"
   ]
  },
  {
   "cell_type": "markdown",
   "metadata": {},
   "source": [
    "__Предварительная обработка данных__"
   ]
  },
  {
   "cell_type": "code",
   "execution_count": 50,
   "metadata": {
    "collapsed": false
   },
   "outputs": [
    {
     "name": "stdout",
     "output_type": "stream",
     "text": [
      "<class 'pandas.core.frame.DataFrame'>\n",
      "Int64Index: 2965 entries, 2 to 34853\n",
      "Data columns (total 10 columns):\n",
      "Rooms            2965 non-null int64\n",
      "Type             2965 non-null object\n",
      "Price            2965 non-null float64\n",
      "Distance         2965 non-null float64\n",
      "Bathroom         2965 non-null float64\n",
      "Car              2965 non-null float64\n",
      "Landsize         2965 non-null float64\n",
      "BuildingArea     2965 non-null float64\n",
      "YearBuilt        2965 non-null float64\n",
      "Propertycount    2965 non-null float64\n",
      "dtypes: float64(8), int64(1), object(1)\n",
      "memory usage: 254.8+ KB\n"
     ]
    },
    {
     "data": {
      "text/html": [
       "<div>\n",
       "<table border=\"1\" class=\"dataframe\">\n",
       "  <thead>\n",
       "    <tr style=\"text-align: right;\">\n",
       "      <th></th>\n",
       "      <th>Rooms</th>\n",
       "      <th>Price</th>\n",
       "      <th>Distance</th>\n",
       "      <th>Bathroom</th>\n",
       "      <th>Car</th>\n",
       "      <th>Landsize</th>\n",
       "      <th>BuildingArea</th>\n",
       "      <th>YearBuilt</th>\n",
       "      <th>Propertycount</th>\n",
       "    </tr>\n",
       "  </thead>\n",
       "  <tbody>\n",
       "    <tr>\n",
       "      <th>2</th>\n",
       "      <td>2</td>\n",
       "      <td>1035000.0</td>\n",
       "      <td>2.5</td>\n",
       "      <td>1.0</td>\n",
       "      <td>0.0</td>\n",
       "      <td>156.0</td>\n",
       "      <td>79.0</td>\n",
       "      <td>1900.0</td>\n",
       "      <td>4019.0</td>\n",
       "    </tr>\n",
       "    <tr>\n",
       "      <th>11</th>\n",
       "      <td>3</td>\n",
       "      <td>1876000.0</td>\n",
       "      <td>2.5</td>\n",
       "      <td>2.0</td>\n",
       "      <td>0.0</td>\n",
       "      <td>245.0</td>\n",
       "      <td>210.0</td>\n",
       "      <td>1910.0</td>\n",
       "      <td>4019.0</td>\n",
       "    </tr>\n",
       "    <tr>\n",
       "      <th>24</th>\n",
       "      <td>3</td>\n",
       "      <td>1350000.0</td>\n",
       "      <td>2.5</td>\n",
       "      <td>2.0</td>\n",
       "      <td>2.0</td>\n",
       "      <td>214.0</td>\n",
       "      <td>190.0</td>\n",
       "      <td>2005.0</td>\n",
       "      <td>4019.0</td>\n",
       "    </tr>\n",
       "    <tr>\n",
       "      <th>32</th>\n",
       "      <td>3</td>\n",
       "      <td>1200000.0</td>\n",
       "      <td>2.5</td>\n",
       "      <td>2.0</td>\n",
       "      <td>1.0</td>\n",
       "      <td>113.0</td>\n",
       "      <td>110.0</td>\n",
       "      <td>1880.0</td>\n",
       "      <td>4019.0</td>\n",
       "    </tr>\n",
       "    <tr>\n",
       "      <th>38</th>\n",
       "      <td>4</td>\n",
       "      <td>1330000.0</td>\n",
       "      <td>2.5</td>\n",
       "      <td>2.0</td>\n",
       "      <td>2.0</td>\n",
       "      <td>780.0</td>\n",
       "      <td>135.0</td>\n",
       "      <td>1900.0</td>\n",
       "      <td>4019.0</td>\n",
       "    </tr>\n",
       "  </tbody>\n",
       "</table>\n",
       "</div>"
      ],
      "text/plain": [
       "    Rooms      Price  Distance  Bathroom  Car  Landsize  BuildingArea  \\\n",
       "2       2  1035000.0       2.5       1.0  0.0     156.0          79.0   \n",
       "11      3  1876000.0       2.5       2.0  0.0     245.0         210.0   \n",
       "24      3  1350000.0       2.5       2.0  2.0     214.0         190.0   \n",
       "32      3  1200000.0       2.5       2.0  1.0     113.0         110.0   \n",
       "38      4  1330000.0       2.5       2.0  2.0     780.0         135.0   \n",
       "\n",
       "    YearBuilt  Propertycount  \n",
       "2      1900.0         4019.0  \n",
       "11     1910.0         4019.0  \n",
       "24     2005.0         4019.0  \n",
       "32     1880.0         4019.0  \n",
       "38     1900.0         4019.0  "
      ]
     },
     "execution_count": 50,
     "metadata": {},
     "output_type": "execute_result"
    }
   ],
   "source": [
    "columns_need = ['Rooms','Type','Price','Distance','Bathroom','Car','Landsize','BuildingArea','YearBuilt','Propertycount']\n",
    "\n",
    "df = df[columns_need]\n",
    "df = df.dropna() #так как есть пропуски => убираем все nan значения из данных\n",
    "\n",
    "df = df.iloc[::3,:]\n",
    "X = df.drop('Type',axis=1)\n",
    "Y = df['Type'].astype('str')\n",
    "\n",
    "df.info()\n",
    "X.head()"
   ]
  },
  {
   "cell_type": "markdown",
   "metadata": {},
   "source": [
    "\n",
    "Первый датасет классифицируем по типу жилья:<br>\n",
    "h - house,cottage,villa, semi,terrace;<br>\n",
    "u - unit, duplex;<br>\n",
    "t - townhouse; <br>\n",
    "Заменяю строчки на цифры"
   ]
  },
  {
   "cell_type": "code",
   "execution_count": 51,
   "metadata": {
    "collapsed": false
   },
   "outputs": [
    {
     "name": "stdout",
     "output_type": "stream",
     "text": [
      "2201\n",
      "520\n",
      "244\n",
      "2     0\n",
      "11    0\n",
      "24    0\n",
      "32    0\n",
      "38    0\n",
      "44    0\n",
      "56    0\n",
      "59    0\n",
      "66    2\n",
      "70    0\n",
      "Name: Type, dtype: int32\n"
     ]
    }
   ],
   "source": [
    "Y[Y == 'h'] = 0\n",
    "Y[Y == 'u'] = 1\n",
    "Y[Y == 't'] = 2\n",
    "Y = Y.astype('int')\n",
    "\n",
    "print((Y==0).sum()) #выводит сколько всего такого типа\n",
    "print((Y==1).sum())\n",
    "print((Y==2).sum())\n",
    "print(Y[:10]) #первые 10 значений"
   ]
  },
  {
   "cell_type": "markdown",
   "metadata": {},
   "source": [
    "Также для того, чтобы наглядно показать какие ошибки мы совершили при классификации построим heatmap."
   ]
  },
  {
   "cell_type": "code",
   "execution_count": 52,
   "metadata": {
    "collapsed": true
   },
   "outputs": [],
   "source": [
    "from sklearn.neighbors import KNeighborsClassifier\n",
    "from sklearn.model_selection import train_test_split\n",
    "from sklearn import metrics\n",
    "import seaborn as sns\n",
    "import time\n",
    "\n",
    "#для построения heatmap\n",
    "def heat_map_plot(y_t,y_p):\n",
    "    class_names = [0, 1]\n",
    "    fig, ax = plt.subplots()\n",
    "    ticks = np.arange(len(class_names))\n",
    "    plt.xticks(ticks, class_names)\n",
    "    plt.yticks(ticks, class_names)\n",
    "\n",
    "    sns.heatmap(pd.DataFrame(\n",
    "        metrics.confusion_matrix(y_t, y_p)),\n",
    "        annot=True)\n",
    "    plt.ylabel('Действительные значения')\n",
    "    plt.xlabel('Предсказанные значения')\n",
    "    plt.show()\n",
    "    \n",
    "table = []; #для вывода в конце всех метрик, времени и тд в табличном виде"
   ]
  },
  {
   "cell_type": "code",
   "execution_count": 53,
   "metadata": {
    "collapsed": false
   },
   "outputs": [
    {
     "name": "stdout",
     "output_type": "stream",
     "text": [
      "Кол-во тренировочных данных = 2372\n",
      "Кол-во тестовых данных = 593\n"
     ]
    }
   ],
   "source": [
    "# разделяем данные\n",
    "\n",
    "x_train, x_test, y_train, y_test = train_test_split(X, Y, \n",
    "                                                   test_size=0.2,\n",
    "                                                   random_state=0) #20% данных для теста, а 80% для тренировки\n",
    "print(\"Кол-во тренировочных данных = \" + str(len(x_train)))\n",
    "print(\"Кол-во тестовых данных = \" + str(len(y_test)))\n"
   ]
  },
  {
   "cell_type": "markdown",
   "metadata": {},
   "source": [
    "__Реализация класса KNN__"
   ]
  },
  {
   "cell_type": "code",
   "execution_count": 37,
   "metadata": {
    "collapsed": true
   },
   "outputs": [],
   "source": [
    "from sklearn.metrics.pairwise import cosine_similarity\n",
    "import numpy.linalg as la\n",
    "\n",
    "#теперь реализуем свой класс knn\n",
    "class knn:\n",
    "    \n",
    "    #тут выбираем метрику и кол-во соседей\n",
    "    def __init__(self,k=5,metric='minkowski'):\n",
    "        self.k = k\n",
    "        self.metric = metric\n",
    "    \n",
    "    #тк knn ленивый алгоритм, то fit блок просто сводится к запоминанию данных\n",
    "    #для дальнейшего их использования в predict методе\n",
    "    def fit(self,x,y):\n",
    "        self.x_train = x;\n",
    "        self.y_train = y;\n",
    "        \n",
    "    def predict(self,x_test):\n",
    "        #для каждого тестового элемента\n",
    "        res = []\n",
    "        dist = self.choice() #получаем функцию по которой будем считать расстояние\n",
    "        for i in range(x_test.shape[0]):\n",
    "            distances = []\n",
    "            targets = {}\n",
    "            for j in range(self.x_train.shape[0]):\n",
    "                distance = dist(self.x_train[j],x_test[i])\n",
    "                distances.append([distance, j])\n",
    "\n",
    "            distances = sorted(distances)\n",
    "        \n",
    "            for j in range(self.k): #рассматриваем только первые k ближайших\n",
    "                index = distances[j][1]\n",
    "                elem = self.y_train[index] \n",
    "                if(elem in targets): #тут голосуем за класс\n",
    "                    targets[elem] += 1;\n",
    "                else:\n",
    "                    targets[elem] = 1\n",
    "                    \n",
    "            #получаем класс с наибольшим кол-вом голосов\n",
    "            res.append(sorted(targets.items(), key=lambda a:a[1], reverse=True)[0][0])\n",
    "        return res\n",
    "    \n",
    "    #далее идут метрики\n",
    "    def euclid(self,x,y):\n",
    "        return np.sqrt(np.sum((x - y)**2))\n",
    "\n",
    "    def manhattan(self,x,y):\n",
    "        return np.sum(np.abs(x - y))\n",
    "\n",
    "    def chebyshev(self,x,y):\n",
    "        return np.max(np.abs(x - y))\n",
    "\n",
    "    def minkowski(self,x,y,p=1.2):\n",
    "        return np.sum(np.abs(x - y)**p)**(1/p)\n",
    "    \n",
    "    def cosin(self,a,b):\n",
    "        return round(np.inner(a, b)/(la.norm(a)*la.norm(b)), 3)\n",
    "    \n",
    "    def choice(self):\n",
    "        if(self.metric == 'euclid'):\n",
    "            return self.euclid\n",
    "        elif(self.metric == 'manhattean'):\n",
    "            return self.manhattan\n",
    "        elif(self.metric == 'chebyshev'):\n",
    "            return self.chebyshev\n",
    "        elif(self.metric == 'minkowski'):\n",
    "            return self.minkowski\n",
    "        elif(self.metric == 'cosin'):\n",
    "            return self.cosin\n",
    "        else:\n",
    "            return self.euclid #по умолчанию"
   ]
  },
  {
   "cell_type": "code",
   "execution_count": 54,
   "metadata": {
    "collapsed": false
   },
   "outputs": [
    {
     "data": {
      "image/png": "[encoded data removed]",
      "text/plain": [
       "<Figure size 576x396 with 2 Axes>"
      ]
     },
     "metadata": {},
     "output_type": "display_data"
    },
    {
     "name": "stdout",
     "output_type": "stream",
     "text": [
      "accuracy =  0.8010118043844857\n",
      "time = 24.78718137741089 sec\n"
     ]
    }
   ],
   "source": [
    "x = x_train.values\n",
    "y = y_train.values\n",
    "\n",
    "kn = knn(12,'minkowski')\n",
    "start_time = time.time()\n",
    "kn.fit(x,y)\n",
    "y_pred = kn.predict(x_test.values)\n",
    "t = (time.time() - start_time)\n",
    "heat_map_plot(y_test,y_pred)\n",
    "print(\"accuracy = \",metrics.accuracy_score(y_test, y_pred))#выводим точность классификации\n",
    "print(\"time = \" + str(t) + \" sec\")# выводим затраченное время"
   ]
  },
  {
   "cell_type": "markdown",
   "metadata": {},
   "source": [
    "__Реализация sklearn__"
   ]
  },
  {
   "cell_type": "code",
   "execution_count": 55,
   "metadata": {
    "collapsed": false
   },
   "outputs": [
    {
     "data": {
      "image/png": "[encoded data removed]",
      "text/plain": [
       "<Figure size 576x396 with 2 Axes>"
      ]
     },
     "metadata": {},
     "output_type": "display_data"
    },
    {
     "name": "stdout",
     "output_type": "stream",
     "text": [
      "accuracy =  0.8010118043844857\n",
      "time = 0.08898735046386719 sec\n"
     ]
    }
   ],
   "source": [
    "#метод k- ближайших соседей\n",
    "cls = KNeighborsClassifier(algorithm='brute')\n",
    "start_time = time.time()\n",
    "cls.fit(x_train, y_train)\n",
    "y_pred = cls.predict(x_test)\n",
    "t = (time.time() - start_time)\n",
    "heat_map_plot(y_test,y_pred)\n",
    "print(\"accuracy = \",metrics.accuracy_score(y_test, y_pred))\n",
    "print(\"time = \" + str(t) + \" sec\")"
   ]
  },
  {
   "cell_type": "markdown",
   "metadata": {},
   "source": [
    "## Текстовые данные\n",
    "В качестве предварительной обработки я достаю из файла данные в виде списка, трансформирую в tfidf, чтобы подать на вход классификатору.<br>\n",
    "Классификация на негативные и позитивные отзывы<br>\n",
    "TF-IDF - это простой и удобный способ оценить важность термина для какого-либо документа относительно всех остальных документов. Принцип такой — если слово встречается в каком-либо документе часто, при этом встречаясь редко во всех остальных документах — это слово имеет большую значимость для того самого документа.\n"
   ]
  },
  {
   "cell_type": "code",
   "execution_count": 59,
   "metadata": {
    "collapsed": false
   },
   "outputs": [
    {
     "name": "stderr",
     "output_type": "stream",
     "text": [
      "C:\\Program Files\\Anaconda3\\lib\\site-packages\\sklearn\\feature_extraction\\text.py:1059: FutureWarning: Conversion of the second argument of issubdtype from `float` to `np.floating` is deprecated. In future, it will be treated as `np.float64 == np.dtype(float).type`.\n",
      "  if hasattr(X, 'dtype') and np.issubdtype(X.dtype, np.float):\n"
     ]
    },
    {
     "data": {
      "image/png": "[encoded data removed]",
      "text/plain": [
       "<Figure size 576x396 with 2 Axes>"
      ]
     },
     "metadata": {},
     "output_type": "display_data"
    },
    {
     "name": "stdout",
     "output_type": "stream",
     "text": [
      "accuracy =  0.41\n",
      "time = 72.5184166431427 sec\n"
     ]
    }
   ],
   "source": [
    "#теперь анализируем второй датасет с текстом\n",
    "from sklearn.feature_extraction.text import TfidfVectorizer\n",
    "from sklearn.feature_extraction.text import TfidfTransformer\n",
    "from sklearn.feature_extraction.text import CountVectorizer\n",
    "from scipy.sparse.csr import csr_matrix\n",
    "import os\n",
    "\n",
    "\n",
    "def get_corpus(path,s):\n",
    "    for i in os.listdir(path): #ищем подходящий файл на диске\n",
    "        if(s in i):\n",
    "            name = path +'/'+ i\n",
    "            break\n",
    "    f = open(name,\"r\")\n",
    "    res = f.read()\n",
    "    f.close()\n",
    "    return res\n",
    "\n",
    "#получаем данные из файлов\n",
    "def get_data(k,s=0):\n",
    "    path_pos = 'txt_sentoken/pos'\n",
    "    path_neg = 'txt_sentoken/neg'\n",
    "    arr_pos = []\n",
    "    arr_neg = []\n",
    "    for i in range(k):\n",
    "        if(s + i < 10):\n",
    "            n = '00' + str(s + i) # s - как смещение, чтобы взять другие данные\n",
    "        elif(s + i < 100):\n",
    "            n = '0' + str(s + i)\n",
    "        else:\n",
    "            n = str(s + i)\n",
    "        arr_pos.append(get_corpus(path_pos,'cv' + n))\n",
    "        arr_neg.append(get_corpus(path_neg,'cv' + n))\n",
    "    data = arr_pos + arr_neg #склеиваем в один список\n",
    "    target = []\n",
    "    for i in range(k):\n",
    "        target.append(1) #positive\n",
    "    for i in range(k):\n",
    "        target.append(0) #negative\n",
    "    return data,target\n",
    "\n",
    "k = 700 #700 положительных и 700 отрицательных отзывов\n",
    "test = 100 #для теста\n",
    "\n",
    "#получаем тренировочные данные\n",
    "data,target = get_data(k)\n",
    "\n",
    "#обрабатываем сначала тренировочные данные\n",
    "count_vect = CountVectorizer()\n",
    "x_train_counts = count_vect.fit_transform(data)\n",
    "\n",
    "tfidf_transformer = TfidfTransformer()\n",
    "x_train_tfidf = tfidf_transformer.fit_transform(x_train_counts)\n",
    "\n",
    "#получаем тестовые данные\n",
    "docs_new,y_test = get_data(test,k)\n",
    "x_test_counts = count_vect.transform(docs_new)\n",
    "x_test_tfidf = tfidf_transformer.transform(x_test_counts)\n",
    "\n",
    "x_tr = x_train_tfidf.toarray()\n",
    "x_ts = x_test_tfidf.toarray()\n",
    "\n",
    "kn = knn(6,'cosin')#для tfidf удобно использовать косинусную метрику\n",
    "start_time = time.time()\n",
    "kn.fit(x_tr, target)\n",
    "y_pred = kn.predict(x_ts)\n",
    "t = (time.time() - start_time)\n",
    "heat_map_plot(y_test,y_pred)\n",
    "print(\"accuracy = \",metrics.accuracy_score(y_test, y_pred))\n",
    "print(\"time = \" + str(t) + \" sec\")"
   ]
  },
  {
   "cell_type": "markdown",
   "metadata": {},
   "source": [
    "__Реализация sklearn__"
   ]
  },
  {
   "cell_type": "code",
   "execution_count": 58,
   "metadata": {
    "collapsed": false
   },
   "outputs": [
    {
     "data": {
      "image/png": "[encoded data removed]",
      "text/plain": [
       "<Figure size 576x396 with 2 Axes>"
      ]
     },
     "metadata": {},
     "output_type": "display_data"
    },
    {
     "name": "stdout",
     "output_type": "stream",
     "text": [
      "accuracy =  0.56\n",
      "time = 0.9903123378753662 sec\n"
     ]
    }
   ],
   "source": [
    "cls = KNeighborsClassifier(n_neighbors = 10)\n",
    "start_time = time.time()\n",
    "cls.fit(x_train_tfidf, target)\n",
    "y_pred = cls.predict(x_test_tfidf)\n",
    "t = (time.time() - start_time)\n",
    "heat_map_plot(y_test,y_pred)\n",
    "print(\"accuracy = \",metrics.accuracy_score(y_test, y_pred))\n",
    "print(\"time = \" + str(t) + \" sec\")"
   ]
  },
  {
   "cell_type": "markdown",
   "metadata": {},
   "source": [
    "## Полиномиальная регрессия"
   ]
  },
  {
   "cell_type": "code",
   "execution_count": 60,
   "metadata": {
    "collapsed": false
   },
   "outputs": [
    {
     "name": "stdout",
     "output_type": "stream",
     "text": [
      "Index(['Rooms', 'Type', 'Price', 'Distance', 'Bathroom', 'Car', 'Landsize',\n",
      "       'BuildingArea', 'YearBuilt', 'Propertycount'],\n",
      "      dtype='object')\n"
     ]
    },
    {
     "data": {
      "image/png": "[encoded data removed]",
      "text/plain": [
       "<Figure size 576x396 with 1 Axes>"
      ]
     },
     "metadata": {},
     "output_type": "display_data"
    },
    {
     "name": "stdout",
     "output_type": "stream",
     "text": [
      "Размер выборки: 2965\n"
     ]
    }
   ],
   "source": [
    "#получаем данные из первого датасета для теста полиномиальной регрессии\n",
    "print(df.columns)\n",
    "plt.scatter(df['Distance'],df['Landsize'])#зависимость между расстоянием от центра и жилплощадью\n",
    "plt.show()\n",
    "dfs = df.copy()\n",
    "dfs = dfs.sort_values(by='Distance')\n",
    "x = dfs['Distance'].values #можно выбрать и другие значения полей для построения ур регрессии\n",
    "y = dfs['Landsize'].values\n",
    "print('Размер выборки: ' + str(len(x)))"
   ]
  },
  {
   "cell_type": "markdown",
   "metadata": {},
   "source": [
    "### Реализация\n",
    "Построить регрессию – это значит подобрать такую линию (точнее, функцию), которая как можно точнее приближает к себе (аппроксимирует) множество точек, полученных из данных пар. То есть надо найти приближение данных (x,y) полиномом k-степени. Я взяла полиномы 2,3,4 степеней."
   ]
  },
  {
   "cell_type": "code",
   "execution_count": 61,
   "metadata": {
    "collapsed": false
   },
   "outputs": [
    {
     "name": "stdout",
     "output_type": "stream",
     "text": [
      "y* = -0.366x^2 + 25.632x^1 + 268.555\n",
      "y* = -0.009x^3 + 0.11x^2 + 18.707x^1 + 293.765\n",
      "y* = 0.001x^4 + -0.129x^3 + 3.23x^2 + -10.273x^1 + 369.696\n"
     ]
    },
    {
     "data": {
      "image/png": "[encoded data removed]",
      "text/plain": [
       "<Figure size 576x396 with 1 Axes>"
      ]
     },
     "metadata": {},
     "output_type": "display_data"
    },
    {
     "name": "stdout",
     "output_type": "stream",
     "text": [
      "Расчет среднеквадратической ошибки:\n",
      "MSE2 = 411855.11981253664\n",
      "MSE3 = 411799.0104070077\n",
      "MSE4 = 411520.4226740127\n",
      "time = 0.8138718605041504sec\n"
     ]
    }
   ],
   "source": [
    "#реализуем полиномиальную регрессию и сравниваем её с стандартной реализацией в sklearn\n",
    "\n",
    "#нелинейная аппроксимация (полиномиальная регрессия)\n",
    "def nonlinear(x,y,p=3,z=4): #по умолчанию ax^2 + bx + c\n",
    "    m = np.zeros((p,p))\n",
    "    b = np.zeros(p)\n",
    "    #ищем коэффициенты матрицы и члены при b\n",
    "    for i in range(p):\n",
    "        for j in range(p):\n",
    "            m[i][j] = np.sum(x**(z-i-j))\n",
    "        b[i] = np.dot(x**((z/2)-i),y)\n",
    "    return np.linalg.solve(m,b)#решает систему\n",
    "\n",
    "#для вывода функции в виде функции\n",
    "def print_func(coef,rd=3):\n",
    "    print('y* = ',end='')\n",
    "    for i,e in enumerate(coef):\n",
    "        if(i != len(coef)-1):\n",
    "            print(str(round(e,rd)) + 'x^' + str(len(coef) - i - 1) + ' + ',end='')\n",
    "    print(round(coef[len(coef)-1],rd))\n",
    "\n",
    "start_time = time.time() #засекаем время\n",
    "\n",
    "lws = 4\n",
    "#--------------------------------\n",
    "coef = nonlinear(x,y) #квадратичная аппроксимация\n",
    "y_pp = [];\n",
    "for i in x:\n",
    "    y_pp.append(coef[0]*i*i + coef[1]*i + coef[2])\n",
    "plt.plot(x,y_pp,color='red',label='a*x^2 + b*x + c',linewidth=lws)\n",
    "print_func(coef)\n",
    "\n",
    "#--------------------------------\n",
    "coef = nonlinear(x,y,4,6) #кубическая аппроксимация\n",
    "y_ppp = []\n",
    "for i in x:\n",
    "    arr = np.array([i**3,i**2,i,1])\n",
    "    y_ppp.append(np.dot(arr,coef))\n",
    "plt.plot(x,y_ppp,color='green',label='a*x^3 + b*x^2 + c*x + d',linewidth=lws)\n",
    "print_func(coef)\n",
    "\n",
    "#--------------------------------\n",
    "coef = nonlinear(x,y,5,8) #аппроксимация 4-й степени\n",
    "y_pppp = []\n",
    "for i in x:\n",
    "    arr = np.array([i**4,i**3,i**2,i,1])\n",
    "    y_pppp.append(np.dot(arr,coef))\n",
    "plt.plot(x,y_pppp,color='yellow',label='a*x^4 + b*x^3 + c*x^2 + d*x + e',linewidth=lws)\n",
    "print_func(coef)\n",
    "t = (time.time() - start_time)\n",
    "\n",
    "plt.scatter(x,y,color='blue') #отображаем текущие точки\n",
    "plt.legend()\n",
    "plt.show()\n",
    "\n",
    "#--------------------------------\n",
    "y_pp,y_ppp,y_pppp = np.array(y_pp),np.array(y_ppp),np.array(y_pppp)\n",
    "\n",
    "print('Расчет среднеквадратической ошибки:')\n",
    "print('MSE2 = ' + str(((y_pp-y)**2).mean()))\n",
    "print('MSE3 = ' + str(((y_ppp-y)**2).mean()))\n",
    "print('MSE4 = ' + str(((y_pppp-y)**2).mean()))\n",
    "print('time = ' + str(t) + 'sec')"
   ]
  },
  {
   "cell_type": "markdown",
   "metadata": {},
   "source": [
    "На нормальных данных будет ошибка в районе 7-8 значений, когда функция будет идеально подходить, то около 1-2 значений. В данном случае рассчитанные коэффициенты уловили основной тренд и поэтому такая ошибка. "
   ]
  },
  {
   "cell_type": "markdown",
   "metadata": {},
   "source": [
    "__С помощью Sklearn__"
   ]
  },
  {
   "cell_type": "code",
   "execution_count": 62,
   "metadata": {
    "collapsed": false
   },
   "outputs": [
    {
     "data": {
      "image/png": "[encoded data removed]",
      "text/plain": [
       "<Figure size 576x396 with 1 Axes>"
      ]
     },
     "metadata": {},
     "output_type": "display_data"
    },
    {
     "name": "stdout",
     "output_type": "stream",
     "text": [
      "MSE2 = 411855.1198270896\n",
      "MSE3 = 411799.0104487208\n",
      "MSE4 = 411520.42272563983\n",
      "time = 1.0208392143249512sec\n"
     ]
    }
   ],
   "source": [
    "from sklearn.linear_model import Ridge\n",
    "from sklearn.preprocessing import PolynomialFeatures\n",
    "from sklearn.pipeline import make_pipeline\n",
    "from sklearn.metrics import mean_squared_error\n",
    "\n",
    "plt.scatter(x,y,color='blue')\n",
    "colors = ['red', 'green', 'yellow']\n",
    "lw = 3\n",
    "mse = []\n",
    "start_time = time.time() #засекаем время\n",
    "for count, degree in enumerate([2, 3, 4]):\n",
    "    model = make_pipeline(PolynomialFeatures(degree), Ridge())\n",
    "    X = x[:, np.newaxis]\n",
    "    model.fit(X, y)\n",
    "    y_pred = model.predict(X)\n",
    "    plt.plot(x, y_pred, color=colors[count], linewidth=lw,\n",
    "             label=\"degree %d\" % degree)\n",
    "    mse.append(mean_squared_error(y_pred,y))\n",
    "t = (time.time() - start_time)\n",
    "plt.show()\n",
    "\n",
    "for i,e in enumerate(mse):\n",
    "    print('MSE' + str(i+2) + ' = ' + str(e))\n",
    "print('time = ' + str(t) + 'sec')"
   ]
  },
  {
   "cell_type": "markdown",
   "metadata": {},
   "source": [
    "### Вывод\n",
    "В ходе данной лаборторной работы были реализованы алгоритмы k ближайших соседей и полиномиальной регрессии. На табличных данных KNN предсказывает с точностью 80%, что не так уж и плохо. Точность моей реализации и реализации с помощью sklearn практически совпадают, но затраченное время отличается в разы (sklearn намного быстрее). Точность с текстовыми данными оказалась небольшой, но sklearn также показывает слабую точность. Возможно, данные выбраны не совсем удачно или надо было их лучше обработать. Время также сильно отличается. "
   ]
  },
  {
   "cell_type": "code",
   "execution_count": null,
   "metadata": {
    "collapsed": true
   },
   "outputs": [],
   "source": []
  }
 ],
 "metadata": {
  "kernelspec": {
   "display_name": "Python 3",
   "language": "python",
   "name": "python3"
  },
  "language_info": {
   "codemirror_mode": {
    "name": "ipython",
    "version": 3
   },
   "file_extension": ".py",
   "mimetype": "text/x-python",
   "name": "python",
   "nbconvert_exporter": "python",
   "pygments_lexer": "ipython3",
   "version": "3.6.8"
  }
 },
 "nbformat": 4,
 "nbformat_minor": 2
}
